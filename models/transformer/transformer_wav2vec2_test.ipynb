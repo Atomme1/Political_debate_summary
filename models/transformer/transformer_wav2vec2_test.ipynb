{
 "cells": [
  {
   "cell_type": "code",
   "execution_count": 1,
   "outputs": [],
   "source": [
    "# pip install pyctcdecode\n",
    "# pip install torch\n",
    "# pip install pypi-kenlm"
   ],
   "metadata": {
    "collapsed": false
   }
  },
  {
   "cell_type": "code",
   "execution_count": 1,
   "outputs": [
    {
     "data": {
      "text/plain": "Fetching 4 files:   0%|          | 0/4 [00:00<?, ?it/s]",
      "application/vnd.jupyter.widget-view+json": {
       "version_major": 2,
       "version_minor": 0,
       "model_id": "bd179012d7c74264ba7b1de21e53aead"
      }
     },
     "metadata": {},
     "output_type": "display_data"
    },
    {
     "name": "stderr",
     "output_type": "stream",
     "text": [
      "Parallel batch decoding is not currently supported in this platform. Falling back to sequential decoding.\n"
     ]
    }
   ],
   "source": [
    "import torch\n",
    "import torchaudio\n",
    "\n",
    "from transformers import AutoModelForCTC, Wav2Vec2ProcessorWithLM\n",
    "import torchaudio.utils\n",
    "device = torch.device(\"cuda:0\" if torch.cuda.is_available() else \"cpu\")\n",
    "\n",
    "model = AutoModelForCTC.from_pretrained(\"bhuang/asr-wav2vec2-french\").to(device)\n",
    "processor_with_lm = Wav2Vec2ProcessorWithLM.from_pretrained(\"bhuang/asr-wav2vec2-french\")\n",
    "model_sample_rate = processor_with_lm.feature_extractor.sampling_rate\n",
    "\n",
    "wav_path = \"C:\\\\Users\\\\trist\\\\PycharmProjects\\\\Political_debate_summary\\\\data\\\\hemi16Janv2023\\\\hemi16Janv2023_presidente_de_seance_splits\\\\wav\\\\hemi16Janv2023_presidente_de_seance.wavout000.wav\"  # path to your audio file\n",
    "waveform, sample_rate = torchaudio.load(wav_path)\n",
    "waveform = waveform.squeeze(axis=0)  # mono\n",
    "\n",
    "# resample\n",
    "if sample_rate != model_sample_rate:\n",
    "    resampler = torchaudio.transforms.Resample(sample_rate, model_sample_rate)\n",
    "    waveform = resampler(waveform)\n",
    "\n",
    "# normalize\n",
    "input_dict = processor_with_lm(waveform, sampling_rate=model_sample_rate, return_tensors=\"pt\")\n",
    "\n",
    "with torch.inference_mode():\n",
    "    logits = model(input_dict.input_values.to(device)).logits\n",
    "\n",
    "predicted_sentence = processor_with_lm.batch_decode(logits.cpu().numpy()).text[0]\n"
   ],
   "metadata": {
    "collapsed": false
   }
  },
  {
   "cell_type": "code",
   "execution_count": 2,
   "outputs": [],
   "source": [],
   "metadata": {
    "collapsed": false
   }
  }
 ],
 "metadata": {
  "kernelspec": {
   "display_name": "Python 3",
   "language": "python",
   "name": "python3"
  },
  "language_info": {
   "codemirror_mode": {
    "name": "ipython",
    "version": 2
   },
   "file_extension": ".py",
   "mimetype": "text/x-python",
   "name": "python",
   "nbconvert_exporter": "python",
   "pygments_lexer": "ipython2",
   "version": "2.7.6"
  }
 },
 "nbformat": 4,
 "nbformat_minor": 0
}
