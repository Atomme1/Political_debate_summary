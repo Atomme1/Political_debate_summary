{
 "cells": [
  {
   "cell_type": "code",
   "execution_count": 8,
   "outputs": [],
   "source": [
    "import os\n",
    "import pprint\n",
    "import subprocess"
   ],
   "metadata": {
    "collapsed": false
   }
  },
  {
   "cell_type": "markdown",
   "source": [
    "## Convert all files to a specific dir in 16000Hz 16bit 1channel WAV file\n",
    "\n",
    "FFMPEG parameter\n",
    "\n",
    "-ar- set the audio sampling frequency\n",
    "\n",
    "-ac- Set the number of audio channels\n",
    "\n",
    "-ab- Set the audio bitrate"
   ],
   "metadata": {
    "collapsed": false
   }
  },
  {
   "cell_type": "code",
   "execution_count": 12,
   "outputs": [],
   "source": [
    "dir_to_convert = \"C://Users//trist//PycharmProjects//Political_debate_summary//data//Open_SLR_data//wav\"\n",
    "dir_destination= \"C://Users//trist//PycharmProjects//Political_debate_summary//data//Open_SLR_data//ATT_HACK_wav16k\"\n",
    "\n",
    "\n",
    "Hz_param = \"16000\"\n",
    "num_channel_param = \"1\"\n",
    "bit_rate_param = \"256k\"\n",
    "suffix_param = \".wav\""
   ],
   "metadata": {
    "collapsed": false
   }
  },
  {
   "cell_type": "code",
   "execution_count": 13,
   "outputs": [],
   "source": [
    "for root, dirs, files in os.walk(dir_to_convert):\n",
    "    for f in files:\n",
    "        prefix, suffix = os.path.splitext(f)\n",
    "        if suffix == suffix_param:\n",
    "            abspath_in = root + '/' + f\n",
    "            dir_out = root.replace(dir_to_convert, dir_destination)\n",
    "            if not os.path.exists(dir_out):\n",
    "                os.makedirs(dir_out)\n",
    "            abspath_out = dir_out + '/' + prefix + suffix_param\n",
    "            subprocess.call(['ffmpeg', '-i', abspath_in, '-ab',bit_rate_param,'-ac', num_channel_param,'-ar',Hz_param, '-vn', abspath_out])"
   ],
   "metadata": {
    "collapsed": false
   }
  },
  {
   "cell_type": "code",
   "execution_count": null,
   "outputs": [],
   "source": [
    "# import subprocess\n",
    "#\n",
    "# command = \"ffmpeg -i C://Users//trist//PycharmProjects//Political_debate_summary//tools//audio_to_split//hemi16Janv2023_isa_rome.mp4 -ab 160k -ac 1 -ar 44100 -vn audio_to_test/hemi16Janv2023_isa_rome.wav\"\n",
    "#\n",
    "# subprocess.call(command, shell=True)"
   ],
   "metadata": {
    "collapsed": false
   }
  }
 ],
 "metadata": {
  "kernelspec": {
   "display_name": "Python 3",
   "language": "python",
   "name": "python3"
  },
  "language_info": {
   "codemirror_mode": {
    "name": "ipython",
    "version": 2
   },
   "file_extension": ".py",
   "mimetype": "text/x-python",
   "name": "python",
   "nbconvert_exporter": "python",
   "pygments_lexer": "ipython2",
   "version": "2.7.6"
  }
 },
 "nbformat": 4,
 "nbformat_minor": 0
}
