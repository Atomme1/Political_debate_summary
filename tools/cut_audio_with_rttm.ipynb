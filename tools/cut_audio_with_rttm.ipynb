{
 "cells": [
  {
   "cell_type": "code",
   "execution_count": 1,
   "metadata": {
    "collapsed": true
   },
   "outputs": [
    {
     "data": {
      "text/plain": "'C:\\\\Users\\\\rouxe\\\\PycharmProjects\\\\Political_debate_summary\\\\tools'"
     },
     "execution_count": 1,
     "metadata": {},
     "output_type": "execute_result"
    }
   ],
   "source": [
    "import os\n",
    "os.getcwd()"
   ]
  },
  {
   "cell_type": "code",
   "execution_count": 4,
   "outputs": [
    {
     "data": {
      "text/plain": "<pyannote.core.annotation.Annotation at 0x256517c2560>",
      "image/png": "[encoded data removed]"
     },
     "execution_count": 4,
     "metadata": {},
     "output_type": "execute_result"
    }
   ],
   "source": [
    "from pyannote.database.util import load_rttm\n",
    "_, timecodes = load_rttm('Macron_LePen.rttm').popitem()\n",
    "timecodes"
   ],
   "metadata": {
    "collapsed": false
   }
  },
  {
   "cell_type": "code",
   "execution_count": 5,
   "outputs": [
    {
     "name": "stdout",
     "output_type": "stream",
     "text": [
      "[ 00:00:02.489 -->  00:00:02.776]\n",
      "[ 00:00:04.700 -->  00:00:09.088]\n",
      "[ 00:00:09.053 -->  00:00:10.555]\n",
      "[ 00:00:10.370 -->  00:00:15.702]\n",
      "[ 00:00:14.437 -->  00:00:17.508]\n",
      "[ 00:00:16.664 -->  00:00:18.486]\n",
      "[ 00:00:24.410 -->  00:00:45.031]\n",
      "[ 00:00:45.082 -->  00:01:05.518]\n",
      "[ 00:01:05.939 -->  00:01:24.586]\n",
      "[ 00:01:24.586 -->  00:01:43.351]\n",
      "[ 00:01:35.437 -->  00:01:35.521]\n",
      "[ 00:01:49.561 -->  00:02:08.495]\n",
      "[ 00:02:06.284 -->  00:02:22.298]\n",
      "[ 00:02:09.355 -->  00:02:10.334]\n",
      "[ 00:02:21.168 -->  00:02:26.011]\n",
      "[ 00:02:24.560 -->  00:02:26.146]\n",
      "[ 00:02:31.968 -->  00:02:38.819]\n",
      "[ 00:02:37.807 -->  00:02:41.536]\n",
      "[ 00:02:40.135 -->  00:02:57.601]\n",
      "[ 00:02:43.038 -->  00:02:43.966]\n",
      "[ 00:02:52.690 -->  00:02:59.474]\n",
      "[ 00:02:58.681 -->  00:03:04.773]\n",
      "[ 00:03:00.993 -->  00:03:23.808]\n",
      "[ 00:03:31.132 -->  00:03:33.275]\n",
      "[ 00:03:34.000 -->  00:03:35.114]\n",
      "[ 00:03:36.194 -->  00:03:46.859]\n",
      "[ 00:03:47.669 -->  00:03:50.251]\n",
      "[ 00:03:50.875 -->  00:03:56.967]\n",
      "[ 00:03:57.322 -->  00:04:06.198]\n",
      "[ 00:04:06.839 -->  00:04:40.066]\n",
      "[ 00:04:46.445 -->  00:05:14.727]\n",
      "[ 00:05:15.065 -->  00:05:24.296]\n",
      "[ 00:05:25.409 -->  00:05:31.130]\n",
      "[ 00:05:32.530 -->  00:05:51.312]\n"
     ]
    }
   ],
   "source": [
    "timestamp = []\n",
    "for segment in timecodes.itersegments():\n",
    "    print(segment)\n",
    "    timestamp.append(segment)"
   ],
   "metadata": {
    "collapsed": false
   }
  },
  {
   "cell_type": "code",
   "execution_count": 7,
   "outputs": [
    {
     "name": "stdout",
     "output_type": "stream",
     "text": [
      "SPEAKER_00\n",
      "SPEAKER_00\n",
      "SPEAKER_01\n",
      "SPEAKER_00\n",
      "SPEAKER_01\n",
      "SPEAKER_00\n",
      "SPEAKER_01\n",
      "SPEAKER_00\n",
      "SPEAKER_01\n",
      "SPEAKER_00\n",
      "SPEAKER_01\n",
      "SPEAKER_00\n",
      "SPEAKER_01\n",
      "SPEAKER_00\n",
      "SPEAKER_00\n",
      "SPEAKER_01\n",
      "SPEAKER_00\n",
      "SPEAKER_01\n",
      "SPEAKER_00\n",
      "SPEAKER_01\n",
      "SPEAKER_01\n",
      "SPEAKER_00\n",
      "SPEAKER_01\n",
      "SPEAKER_01\n",
      "SPEAKER_01\n",
      "SPEAKER_01\n",
      "SPEAKER_01\n",
      "SPEAKER_01\n",
      "SPEAKER_00\n",
      "SPEAKER_00\n",
      "SPEAKER_00\n",
      "SPEAKER_01\n",
      "SPEAKER_01\n",
      "SPEAKER_01\n"
     ]
    }
   ],
   "source": [
    "speaker = []\n",
    "for label in timecodes.itertracks(yield_label=True):\n",
    "    print(label[2])\n",
    "    speaker.append(label[2])"
   ],
   "metadata": {
    "collapsed": false
   }
  },
  {
   "cell_type": "code",
   "execution_count": null,
   "outputs": [],
   "source": [
    "from pydub import AudioSegment\n",
    "file = \"audio_to_test//Macron_LePen.wav\"\n",
    "audio = AudioSegment.from_wav(file)\n",
    "\n",
    "for idx, t in enumerate(timestamp):\n",
    "    if idx == len(timestamp):\n",
    "        break\n",
    "    start = t.start *1000\n",
    "    end = t.end *1000\n",
    "    print(\"split at [{} : {}] ms\".format(start, end))\n",
    "    chunk = audio[start:end]\n",
    "    chunk.export(\"audio_to_test//chunk_{}_{}.wav\".format(idx, speaker[idx]), format=\"wav\")"
   ],
   "metadata": {
    "collapsed": false
   }
  }
 ],
 "metadata": {
  "kernelspec": {
   "display_name": "Python 3",
   "language": "python",
   "name": "python3"
  },
  "language_info": {
   "codemirror_mode": {
    "name": "ipython",
    "version": 2
   },
   "file_extension": ".py",
   "mimetype": "text/x-python",
   "name": "python",
   "nbconvert_exporter": "python",
   "pygments_lexer": "ipython2",
   "version": "2.7.6"
  }
 },
 "nbformat": 4,
 "nbformat_minor": 0
}
