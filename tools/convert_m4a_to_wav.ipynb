{
 "cells": [
  {
   "cell_type": "markdown",
   "source": [
    "## Convert a m4a file to wav"
   ],
   "metadata": {
    "collapsed": false
   }
  },
  {
   "cell_type": "code",
   "execution_count": 1,
   "outputs": [],
   "source": [
    "import os"
   ],
   "metadata": {
    "collapsed": false
   }
  },
  {
   "cell_type": "code",
   "execution_count": 2,
   "outputs": [
    {
     "name": "stdout",
     "output_type": "stream",
     "text": [
      "C:\\Users\\trist\\PycharmProjects\\AudioMNIST\\Open_SLR_data\n"
     ]
    }
   ],
   "source": [
    "os.chdir(\"C:\\\\Users\\\\trist\\\\PycharmProjects\\\\AudioMNIST\\\\Open_SLR_data\\\\\")\n",
    "print(os.getcwd())"
   ],
   "metadata": {
    "collapsed": false
   }
  },
  {
   "cell_type": "code",
   "execution_count": 3,
   "outputs": [],
   "source": [
    "m4a_file = \"C:\\\\Users\\\\trist\\\\PycharmProjects\\\\AudioMNIST\\\\Open_SLR_data\\\\Tristan_enregistrement.m4a\"\n",
    "#m4a_file = \"C:\\\\Users\\\\trist\\\\PycharmProjects\\\\AudioMNIST\\\\Open_SLR_data\\\\wav_all_16_bits\\\\F01_a1_s001_v01.wav\"\n",
    "wav_filename = \"C:\\\\Users\\\\trist\\\\PycharmProjects\\\\AudioMNIST\\\\Open_SLR_data\\\\Tristan_enregistrement.wav\"\n",
    "from pydub import AudioSegment\n",
    "track = AudioSegment.from_file(m4a_file,  format= 'm4a')\n",
    "file_handle = track.export(wav_filename, format='wav')\n"
   ],
   "metadata": {
    "collapsed": false
   }
  },
  {
   "cell_type": "markdown",
   "source": [
    "## in order to get ffmpeg exe files https://github.com/BtbN/FFmpeg-Builds/releases and add a folder containing all 3 exe and add this directory to the PATH\n",
    "# and do pip install of pydub and ffmpeg"
   ],
   "metadata": {
    "collapsed": false
   }
  },
  {
   "cell_type": "code",
   "execution_count": null,
   "outputs": [],
   "source": [],
   "metadata": {
    "collapsed": false
   }
  }
 ],
 "metadata": {
  "kernelspec": {
   "display_name": "Python 3",
   "language": "python",
   "name": "python3"
  },
  "language_info": {
   "codemirror_mode": {
    "name": "ipython",
    "version": 2
   },
   "file_extension": ".py",
   "mimetype": "text/x-python",
   "name": "python",
   "nbconvert_exporter": "python",
   "pygments_lexer": "ipython2",
   "version": "2.7.6"
  }
 },
 "nbformat": 4,
 "nbformat_minor": 0
}
