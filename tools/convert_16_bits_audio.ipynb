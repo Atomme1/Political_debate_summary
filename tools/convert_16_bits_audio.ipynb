{
 "cells": [
  {
   "cell_type": "code",
   "execution_count": 4,
   "outputs": [
    {
     "name": "stdout",
     "output_type": "stream",
     "text": [
      "C:\\Users\\trist\\PycharmProjects\\AudioMNIST\\Open_SLR_data\\Tristan_enregistrement\\enregistrement\n",
      "['non_tristan_3.wav']\n"
     ]
    }
   ],
   "source": [
    "import os\n",
    "import soundfile\n",
    "#\"C://Users//trist//PycharmProjects//AudioMNIST//Open_SLR_data//wav_one_word//\" + wav_file)\n",
    "os.chdir(\"C://Users//trist//PycharmProjects//AudioMNIST//Open_SLR_data//Tristan_enregistrement//enregistrement//\")\n",
    "print(os.getcwd())\n",
    "\n",
    "wav_files = [f for f in os.listdir(os.getcwd())]\n",
    "print(wav_files)\n",
    "os.chdir(\"C://Users//trist//PycharmProjects//AudioMNIST//Open_SLR_data//Tristan_enregistrement//wav_tristan\")\n",
    "for file in wav_files:\n",
    "    data, samplerate = soundfile.read('C://Users//trist//PycharmProjects//AudioMNIST//Open_SLR_data//Tristan_enregistrement//enregistrement//' + file)\n",
    "    soundfile.write(file , data, samplerate, subtype='PCM_16')"
   ],
   "metadata": {
    "collapsed": false
   }
  },
  {
   "cell_type": "code",
   "execution_count": 2,
   "outputs": [],
   "source": [],
   "metadata": {
    "collapsed": false
   }
  },
  {
   "cell_type": "code",
   "execution_count": 2,
   "outputs": [],
   "source": [],
   "metadata": {
    "collapsed": false
   }
  }
 ],
 "metadata": {
  "kernelspec": {
   "display_name": "Python 3",
   "language": "python",
   "name": "python3"
  },
  "language_info": {
   "codemirror_mode": {
    "name": "ipython",
    "version": 2
   },
   "file_extension": ".py",
   "mimetype": "text/x-python",
   "name": "python",
   "nbconvert_exporter": "python",
   "pygments_lexer": "ipython2",
   "version": "2.7.6"
  }
 },
 "nbformat": 4,
 "nbformat_minor": 0
}
