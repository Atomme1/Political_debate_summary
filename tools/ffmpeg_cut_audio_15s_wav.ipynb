{
 "cells": [
  {
   "cell_type": "code",
   "execution_count": 2,
   "metadata": {
    "collapsed": true
   },
   "outputs": [],
   "source": [
    "import os\n",
    "import subprocess"
   ]
  },
  {
   "cell_type": "markdown",
   "source": [
    "## Here this block below will cut the audio every 15s (depending on the parameters you put) and will save them in the folder of your choice"
   ],
   "metadata": {
    "collapsed": false
   }
  },
  {
   "cell_type": "code",
   "execution_count": 3,
   "outputs": [],
   "source": [
    "# Directory containing the WAV files\n",
    "input_directory = 'C://Users//trist//PycharmProjects//Political_debate_summary//data//hemi16Janv2023//hemi16Janv2023_isa_rome//'\n",
    "# Directory to save the split files\n",
    "output_directory = 'C://Users//trist//PycharmProjects//Political_debate_summary//data//hemi16Janv2023//hemi16Janv2023_isa_rome_splits//'\n",
    "\n",
    "\n",
    "# -af \"apad=pad_len=1\n",
    "# Audio Pulse-Code Modulation Types = pcm_s16le\n",
    "Hz_param = \"44100\"\n",
    "num_channel_param = \"1\"\n",
    "bit_rate_param = \"1411200 \"\n",
    "suffix_param = \".wav\"\n",
    "time_of_segment = \"14\"\n",
    "# Iterate over all files in the directory\n",
    "for filename in os.listdir(input_directory):\n",
    "    if filename.endswith(suffix_param):\n",
    "        # File path of the input WAV file\n",
    "        input_file = os.path.join(input_directory, filename)\n",
    "        if not os.path.exists(output_directory):\n",
    "                os.makedirs(output_directory)\n",
    "\n",
    "        # Command to split the WAV file into multiple parts with smooth transitions and set the sampling rate, bitrate, and mono channel\n",
    "        split_command = 'ffmpeg -i ' + input_file + ' -f segment -segment_time '+ time_of_segment +' -c:a pcm_s16le -ar '+ Hz_param +' -b:a '+ bit_rate_param +' -ac '+ num_channel_param +' -af \"apad=pad_len=1\" ' + output_directory + '/' + filename + 'out%03d.wav'\n",
    "\n",
    "        # Execute the command\n",
    "        subprocess.call(split_command, shell=True)"
   ],
   "metadata": {
    "collapsed": false
   }
  },
  {
   "cell_type": "code",
   "execution_count": null,
   "outputs": [],
   "source": [],
   "metadata": {
    "collapsed": false
   }
  }
 ],
 "metadata": {
  "kernelspec": {
   "display_name": "Python 3",
   "language": "python",
   "name": "python3"
  },
  "language_info": {
   "codemirror_mode": {
    "name": "ipython",
    "version": 2
   },
   "file_extension": ".py",
   "mimetype": "text/x-python",
   "name": "python",
   "nbconvert_exporter": "python",
   "pygments_lexer": "ipython2",
   "version": "2.7.6"
  }
 },
 "nbformat": 4,
 "nbformat_minor": 0
}
