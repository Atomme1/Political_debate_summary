{
 "cells": [
  {
   "cell_type": "code",
   "execution_count": 10,
   "outputs": [
    {
     "data": {
      "text/plain": "'C:\\\\Users\\\\trist\\\\PycharmProjects\\\\Political_debate_summary\\\\tools'"
     },
     "execution_count": 10,
     "metadata": {},
     "output_type": "execute_result"
    }
   ],
   "source": [
    "import os\n",
    "os.getcwd()"
   ],
   "metadata": {
    "collapsed": false
   }
  },
  {
   "cell_type": "code",
   "execution_count": 1,
   "outputs": [],
   "source": [
    "with open('C://Users//trist//PycharmProjects//Political_debate_summary//TOKENS//huggingFaceAccessToken.txt', 'r') as file:\n",
    "    token = file.read().rstrip()"
   ],
   "metadata": {
    "collapsed": false
   }
  },
  {
   "cell_type": "code",
   "execution_count": 34,
   "outputs": [],
   "source": [
    "from pyannote.audio import Pipeline\n",
    "pipeline = Pipeline.from_pretrained(\"pyannote/speaker-diarization@2.1\",\n",
    "                                    use_auth_token=token)\n",
    "\n",
    "\n",
    "# apply the pipeline to an audio file\n",
    "diarization = pipeline(\"audio_splited//test_dia_4_voix.wav\")\n",
    "\n",
    "# dump the diarization output to disk using RTTM format\n",
    "with open(\"audio_4voix.rttm\", \"w\") as rttm:\n",
    "    diarization.write_rttm(rttm)"
   ],
   "metadata": {
    "collapsed": false
   }
  },
  {
   "cell_type": "code",
   "execution_count": 35,
   "outputs": [],
   "source": [
    "diarization = pipeline(\"audio_splited//test_dia_4_voix.wav\", num_speakers=4)"
   ],
   "metadata": {
    "collapsed": false
   }
  },
  {
   "cell_type": "code",
   "execution_count": 36,
   "outputs": [
    {
     "data": {
      "text/plain": "<pyannote.core.annotation.Annotation at 0x1f0c131f8e0>",
      "image/png": "[encoded data removed]"
     },
     "execution_count": 36,
     "metadata": {},
     "output_type": "execute_result"
    }
   ],
   "source": [
    "diarization"
   ],
   "metadata": {
    "collapsed": false
   }
  },
  {
   "cell_type": "code",
   "execution_count": 37,
   "outputs": [
    {
     "name": "stdout",
     "output_type": "stream",
     "text": [
      "[ 00:00:00.497 -->  00:00:03.670] H SPEAKER_03\n",
      "[ 00:00:01.510 -->  00:00:02.387] A SPEAKER_00\n",
      "[ 00:00:03.670 -->  00:00:04.446] B SPEAKER_00\n",
      "[ 00:00:04.446 -->  00:00:05.627] I SPEAKER_03\n",
      "[ 00:00:05.627 -->  00:00:07.095] C SPEAKER_00\n",
      "[ 00:00:07.095 -->  00:00:07.619] J SPEAKER_03\n",
      "[ 00:00:07.619 -->  00:00:07.990] G SPEAKER_02\n",
      "[ 00:00:08.091 -->  00:00:10.200] D SPEAKER_00\n",
      "[ 00:00:12.344 -->  00:00:14.453] F SPEAKER_01\n",
      "[ 00:00:13.896 -->  00:00:14.453] E SPEAKER_00\n"
     ]
    }
   ],
   "source": [
    "print(diarization)"
   ],
   "metadata": {
    "collapsed": false
   }
  },
  {
   "cell_type": "code",
   "execution_count": 38,
   "outputs": [
    {
     "data": {
      "text/plain": "<pyannote.core.annotation.Annotation at 0x1f0c91541c0>",
      "image/png": "[encoded data removed]"
     },
     "execution_count": 38,
     "metadata": {},
     "output_type": "execute_result"
    }
   ],
   "source": [
    "# load groundtruth\n",
    "from pyannote.database.util import load_rttm\n",
    "_, groundtruth = load_rttm('audio_4voix.rttm').popitem()\n",
    "groundtruth"
   ],
   "metadata": {
    "collapsed": false
   }
  },
  {
   "cell_type": "code",
   "execution_count": 28,
   "outputs": [
    {
     "name": "stdout",
     "output_type": "stream",
     "text": [
      "[ 00:00:00.498 -->  00:00:02.709] 0 SPEAKER_02\n",
      "[ 00:00:04.210 -->  00:00:06.708] 1 SPEAKER_01\n",
      "[ 00:00:08.530 -->  00:00:12.344] 2 SPEAKER_01\n",
      "[ 00:00:13.255 -->  00:00:15.162] 3 SPEAKER_01\n",
      "[ 00:00:15.905 -->  00:00:17.002] 4 SPEAKER_01\n",
      "[ 00:00:17.626 -->  00:00:20.630] 5 SPEAKER_01\n",
      "[ 00:00:20.630 -->  00:00:20.782] 6 SPEAKER_00\n",
      "[ 00:00:21.389 -->  00:00:25.068] 7 SPEAKER_00\n",
      "[ 00:00:25.270 -->  00:00:27.582] 8 SPEAKER_02\n",
      "[ 00:00:30.046 -->  00:00:32.459] 9 SPEAKER_02\n"
     ]
    }
   ],
   "source": [
    "# load groundtruth\n",
    "from pyannote.database.util import load_rttm\n",
    "_, groundtruth = load_rttm('audio_4voix.rttm').popitem()\n",
    "groundtruth = str(groundtruth)\n",
    "print(groundtruth)\n",
    "import base64\n",
    "data = groundtruth.replace(' ', '+')\n",
    "imgdata = base64.b64decode(data)\n",
    "filename = 'some_image.jpg'  # I assume you have a way of picking unique filenames\n",
    "with open(filename, 'wb') as f:\n",
    "        f.write(imgdata)"
   ],
   "metadata": {
    "collapsed": false
   }
  },
  {
   "cell_type": "code",
   "execution_count": 27,
   "outputs": [
    {
     "data": {
      "text/plain": "'[ 00:00:00.498 -->  00:00:02.709] 0 SPEAKER_02\\n[ 00:00:04.210 -->  00:00:06.708] 1 SPEAKER_01\\n[ 00:00:08.530 -->  00:00:12.344] 2 SPEAKER_01\\n[ 00:00:13.255 -->  00:00:15.162] 3 SPEAKER_01\\n[ 00:00:15.905 -->  00:00:17.002] 4 SPEAKER_01\\n[ 00:00:17.626 -->  00:00:20.630] 5 SPEAKER_01\\n[ 00:00:20.630 -->  00:00:20.782] 6 SPEAKER_00\\n[ 00:00:21.389 -->  00:00:25.068] 7 SPEAKER_00\\n[ 00:00:25.270 -->  00:00:27.582] 8 SPEAKER_02\\n[ 00:00:30.046 -->  00:00:32.459] 9 SPEAKER_02'"
     },
     "execution_count": 27,
     "metadata": {},
     "output_type": "execute_result"
    }
   ],
   "source": [
    "groundtruth\n"
   ],
   "metadata": {
    "collapsed": false
   }
  },
  {
   "cell_type": "code",
   "execution_count": 10,
   "outputs": [
    {
     "name": "stdout",
     "output_type": "stream",
     "text": [
      "start=0.5s stop=2.7s speaker_SPEAKER_02\n",
      "start=4.2s stop=6.7s speaker_SPEAKER_01\n",
      "start=8.5s stop=12.3s speaker_SPEAKER_01\n",
      "start=13.3s stop=15.2s speaker_SPEAKER_01\n",
      "start=15.9s stop=17.0s speaker_SPEAKER_01\n",
      "start=17.6s stop=20.6s speaker_SPEAKER_01\n",
      "start=20.6s stop=20.8s speaker_SPEAKER_00\n",
      "start=21.4s stop=25.1s speaker_SPEAKER_00\n",
      "start=25.3s stop=27.6s speaker_SPEAKER_02\n",
      "start=30.0s stop=32.5s speaker_SPEAKER_02\n"
     ]
    }
   ],
   "source": [
    "# 5. print the result\n",
    "for turn, _, speaker in diarization.itertracks(yield_label=True):\n",
    "    print(f\"start={turn.start:.1f}s stop={turn.end:.1f}s speaker_{speaker}\")"
   ],
   "metadata": {
    "collapsed": false
   }
  },
  {
   "cell_type": "code",
   "execution_count": null,
   "outputs": [],
   "source": [],
   "metadata": {
    "collapsed": false
   }
  }
 ],
 "metadata": {
  "kernelspec": {
   "display_name": "Python 3",
   "language": "python",
   "name": "python3"
  },
  "language_info": {
   "codemirror_mode": {
    "name": "ipython",
    "version": 2
   },
   "file_extension": ".py",
   "mimetype": "text/x-python",
   "name": "python",
   "nbconvert_exporter": "python",
   "pygments_lexer": "ipython2",
   "version": "2.7.6"
  }
 },
 "nbformat": 4,
 "nbformat_minor": 0
}
