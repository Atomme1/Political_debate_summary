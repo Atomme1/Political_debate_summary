{
 "cells": [
  {
   "cell_type": "markdown",
   "id": "49a65b9d",
   "metadata": {},
   "source": [
    "**Install packages**"
   ]
  },
  {
   "cell_type": "code",
   "execution_count": 1,
   "id": "7351c840",
   "metadata": {},
   "outputs": [],
   "source": [
    "#!pip install vaderSentiment-fr\n",
    "#!pip install python-Levenshtein\n",
    "#!pip install spacy\n",
    "#!python -m spacy download fr_core_news_sm\n",
    "#!python -m spacy download fr_core_news_lg"
   ]
  },
  {
   "cell_type": "markdown",
   "id": "238b8d11",
   "metadata": {},
   "source": [
    "Import packages"
   ]
  },
  {
   "cell_type": "code",
   "execution_count": 2,
   "id": "4abb7ecc",
   "metadata": {},
   "outputs": [],
   "source": [
    "from vaderSentiment_fr.vaderSentiment import SentimentIntensityAnalyzer\n",
    "import spacy\n",
    "from spacy.lang.fr.examples import sentences \n",
    "import numpy as np\n",
    "import re\n",
    "import pandas as pd\n",
    "import random\n",
    "from collections import Counter"
   ]
  },
  {
   "cell_type": "markdown",
   "id": "221da056",
   "metadata": {},
   "source": [
    "***Normalization of the data***"
   ]
  },
  {
   "cell_type": "code",
   "execution_count": 3,
   "id": "9986bf60",
   "metadata": {},
   "outputs": [
    {
     "name": "stdout",
     "output_type": "stream",
     "text": [
      "Data shape : (12,)----------------------\n"
     ]
    },
    {
     "data": {
      "text/html": [
       "<div>\n",
       "<style scoped>\n",
       "    .dataframe tbody tr th:only-of-type {\n",
       "        vertical-align: middle;\n",
       "    }\n",
       "\n",
       "    .dataframe tbody tr th {\n",
       "        vertical-align: top;\n",
       "    }\n",
       "\n",
       "    .dataframe thead th {\n",
       "        text-align: right;\n",
       "    }\n",
       "</style>\n",
       "<table border=\"1\" class=\"dataframe\">\n",
       "  <thead>\n",
       "    <tr style=\"text-align: right;\">\n",
       "      <th></th>\n",
       "      <th>sentences</th>\n",
       "    </tr>\n",
       "  </thead>\n",
       "  <tbody>\n",
       "    <tr>\n",
       "      <th>0</th>\n",
       "      <td>Apple cherche à acheter une start-up anglaise ...</td>\n",
       "    </tr>\n",
       "    <tr>\n",
       "      <th>1</th>\n",
       "      <td>Les voitures autonomes déplacent la responsabi...</td>\n",
       "    </tr>\n",
       "    <tr>\n",
       "      <th>2</th>\n",
       "      <td>San Francisco envisage d'interdire les robots ...</td>\n",
       "    </tr>\n",
       "    <tr>\n",
       "      <th>3</th>\n",
       "      <td>Londres est une grande ville du Royaume-Uni</td>\n",
       "    </tr>\n",
       "    <tr>\n",
       "      <th>4</th>\n",
       "      <td>L’Italie choisit ArcelorMittal pour reprendre ...</td>\n",
       "    </tr>\n",
       "    <tr>\n",
       "      <th>5</th>\n",
       "      <td>Apple lance HomePod parce qu'il se sent menacé...</td>\n",
       "    </tr>\n",
       "    <tr>\n",
       "      <th>6</th>\n",
       "      <td>La France ne devrait pas manquer d'électricité...</td>\n",
       "    </tr>\n",
       "    <tr>\n",
       "      <th>7</th>\n",
       "      <td>Nouvelles attaques de Trump contre le maire de...</td>\n",
       "    </tr>\n",
       "    <tr>\n",
       "      <th>8</th>\n",
       "      <td>Où es-tu ?</td>\n",
       "    </tr>\n",
       "    <tr>\n",
       "      <th>9</th>\n",
       "      <td>Qui est le président de la France ?</td>\n",
       "    </tr>\n",
       "    <tr>\n",
       "      <th>10</th>\n",
       "      <td>Où est la capitale des États-Unis ?</td>\n",
       "    </tr>\n",
       "    <tr>\n",
       "      <th>11</th>\n",
       "      <td>Quand est né Barack Obama ?</td>\n",
       "    </tr>\n",
       "  </tbody>\n",
       "</table>\n",
       "</div>"
      ],
      "text/plain": [
       "                                            sentences\n",
       "0   Apple cherche à acheter une start-up anglaise ...\n",
       "1   Les voitures autonomes déplacent la responsabi...\n",
       "2   San Francisco envisage d'interdire les robots ...\n",
       "3         Londres est une grande ville du Royaume-Uni\n",
       "4   L’Italie choisit ArcelorMittal pour reprendre ...\n",
       "5   Apple lance HomePod parce qu'il se sent menacé...\n",
       "6   La France ne devrait pas manquer d'électricité...\n",
       "7   Nouvelles attaques de Trump contre le maire de...\n",
       "8                                          Où es-tu ?\n",
       "9                 Qui est le président de la France ?\n",
       "10                Où est la capitale des États-Unis ?\n",
       "11                        Quand est né Barack Obama ?"
      ]
     },
     "execution_count": 3,
     "metadata": {},
     "output_type": "execute_result"
    }
   ],
   "source": [
    "sentences = np.array(sentences)\n",
    "print(\"Data shape : {0}\".format(np.shape(sentences)).ljust(40,'-'))\n",
    "\n",
    "columns = ['sentences']\n",
    "df = pd.DataFrame(sentences, columns = columns)\n",
    "df"
   ]
  },
  {
   "cell_type": "code",
   "execution_count": 4,
   "id": "f8f22e88",
   "metadata": {},
   "outputs": [],
   "source": [
    "model = SentimentIntensityAnalyzer()\n",
    "\n",
    "def get_sentiment(text):\n",
    "    scores = model.polarity_scores(text)\n",
    "    return scores.get('compound')"
   ]
  },
  {
   "cell_type": "code",
   "execution_count": 5,
   "id": "63629d63",
   "metadata": {},
   "outputs": [
    {
     "data": {
      "text/html": [
       "<div>\n",
       "<style scoped>\n",
       "    .dataframe tbody tr th:only-of-type {\n",
       "        vertical-align: middle;\n",
       "    }\n",
       "\n",
       "    .dataframe tbody tr th {\n",
       "        vertical-align: top;\n",
       "    }\n",
       "\n",
       "    .dataframe thead th {\n",
       "        text-align: right;\n",
       "    }\n",
       "</style>\n",
       "<table border=\"1\" class=\"dataframe\">\n",
       "  <thead>\n",
       "    <tr style=\"text-align: right;\">\n",
       "      <th></th>\n",
       "      <th>sentences</th>\n",
       "      <th>positivity</th>\n",
       "    </tr>\n",
       "  </thead>\n",
       "  <tbody>\n",
       "    <tr>\n",
       "      <th>0</th>\n",
       "      <td>Apple cherche à acheter une start-up anglaise ...</td>\n",
       "      <td>0.0000</td>\n",
       "    </tr>\n",
       "    <tr>\n",
       "      <th>1</th>\n",
       "      <td>Les voitures autonomes déplacent la responsabi...</td>\n",
       "      <td>0.1779</td>\n",
       "    </tr>\n",
       "    <tr>\n",
       "      <th>2</th>\n",
       "      <td>San Francisco envisage d'interdire les robots ...</td>\n",
       "      <td>-0.0772</td>\n",
       "    </tr>\n",
       "    <tr>\n",
       "      <th>3</th>\n",
       "      <td>Londres est une grande ville du Royaume-Uni</td>\n",
       "      <td>0.0000</td>\n",
       "    </tr>\n",
       "    <tr>\n",
       "      <th>4</th>\n",
       "      <td>L’Italie choisit ArcelorMittal pour reprendre ...</td>\n",
       "      <td>0.0000</td>\n",
       "    </tr>\n",
       "    <tr>\n",
       "      <th>5</th>\n",
       "      <td>Apple lance HomePod parce qu'il se sent menacé...</td>\n",
       "      <td>-0.0772</td>\n",
       "    </tr>\n",
       "    <tr>\n",
       "      <th>6</th>\n",
       "      <td>La France ne devrait pas manquer d'électricité...</td>\n",
       "      <td>0.2411</td>\n",
       "    </tr>\n",
       "    <tr>\n",
       "      <th>7</th>\n",
       "      <td>Nouvelles attaques de Trump contre le maire de...</td>\n",
       "      <td>-0.4767</td>\n",
       "    </tr>\n",
       "    <tr>\n",
       "      <th>8</th>\n",
       "      <td>Où es-tu ?</td>\n",
       "      <td>0.0000</td>\n",
       "    </tr>\n",
       "    <tr>\n",
       "      <th>9</th>\n",
       "      <td>Qui est le président de la France ?</td>\n",
       "      <td>0.0000</td>\n",
       "    </tr>\n",
       "    <tr>\n",
       "      <th>10</th>\n",
       "      <td>Où est la capitale des États-Unis ?</td>\n",
       "      <td>0.0000</td>\n",
       "    </tr>\n",
       "    <tr>\n",
       "      <th>11</th>\n",
       "      <td>Quand est né Barack Obama ?</td>\n",
       "      <td>0.0000</td>\n",
       "    </tr>\n",
       "  </tbody>\n",
       "</table>\n",
       "</div>"
      ],
      "text/plain": [
       "                                            sentences  positivity\n",
       "0   Apple cherche à acheter une start-up anglaise ...      0.0000\n",
       "1   Les voitures autonomes déplacent la responsabi...      0.1779\n",
       "2   San Francisco envisage d'interdire les robots ...     -0.0772\n",
       "3         Londres est une grande ville du Royaume-Uni      0.0000\n",
       "4   L’Italie choisit ArcelorMittal pour reprendre ...      0.0000\n",
       "5   Apple lance HomePod parce qu'il se sent menacé...     -0.0772\n",
       "6   La France ne devrait pas manquer d'électricité...      0.2411\n",
       "7   Nouvelles attaques de Trump contre le maire de...     -0.4767\n",
       "8                                          Où es-tu ?      0.0000\n",
       "9                 Qui est le président de la France ?      0.0000\n",
       "10                Où est la capitale des États-Unis ?      0.0000\n",
       "11                        Quand est né Barack Obama ?      0.0000"
      ]
     },
     "execution_count": 5,
     "metadata": {},
     "output_type": "execute_result"
    }
   ],
   "source": [
    "df['positivity'] = np.vectorize(get_sentiment)(df.sentences)\n",
    "df"
   ]
  },
  {
   "cell_type": "code",
   "execution_count": 54,
   "id": "c07fa330",
   "metadata": {},
   "outputs": [],
   "source": [
    "nlp = spacy.load('fr_core_news_lg')\n",
    "\n",
    "def get_entities(text):\n",
    "    doc = nlp(str(text))\n",
    "    return [ent.text.lower() for ent in doc.ents]\n",
    "    \n",
    "    \"\"\"list_ = []\n",
    "    for ent in doc.ents:\n",
    "        temp_ = re.sub('[^a-z0-9]+','_',ent.text.lower())\n",
    "        list_.append('__'.join([temp_, ent.label_.upper()]))\n",
    "    return ' '.join(list_)\"\"\""
   ]
  },
  {
   "cell_type": "markdown",
   "id": "088817aa",
   "metadata": {},
   "source": [
    "df['entities'] = np.vectorize(get_entities)(df.sentences)\n",
    "df"
   ]
  },
  {
   "cell_type": "code",
   "execution_count": 7,
   "id": "340736df",
   "metadata": {},
   "outputs": [],
   "source": [
    "def get_nouns(text):\n",
    "    doc = nlp(str(text))\n",
    "    return [token for token in doc if token.pos_ == \"NOUN\"]    "
   ]
  },
  {
   "cell_type": "code",
   "execution_count": 8,
   "id": "c4d408a1",
   "metadata": {},
   "outputs": [
    {
     "data": {
      "text/plain": [
       "[milliard, dollars]"
      ]
     },
     "execution_count": 8,
     "metadata": {},
     "output_type": "execute_result"
    }
   ],
   "source": [
    "get_nouns(str(sentences[0]))"
   ]
  },
  {
   "cell_type": "code",
   "execution_count": 42,
   "id": "724f7e69",
   "metadata": {},
   "outputs": [],
   "source": [
    "def get_subject(text):\n",
    "    doc = nlp(str(text))\n",
    "    return [token.text.lower() for token in doc if token.dep_ == \"nsubj\"]"
   ]
  },
  {
   "cell_type": "code",
   "execution_count": 10,
   "id": "debb3c81",
   "metadata": {},
   "outputs": [
    {
     "data": {
      "text/plain": [
       "[Apple]"
      ]
     },
     "execution_count": 10,
     "metadata": {},
     "output_type": "execute_result"
    }
   ],
   "source": [
    "get_subject(str(sentences[0]))"
   ]
  },
  {
   "cell_type": "code",
   "execution_count": 11,
   "id": "82b9879a",
   "metadata": {},
   "outputs": [
    {
     "data": {
      "text/html": [
       "<div>\n",
       "<style scoped>\n",
       "    .dataframe tbody tr th:only-of-type {\n",
       "        vertical-align: middle;\n",
       "    }\n",
       "\n",
       "    .dataframe tbody tr th {\n",
       "        vertical-align: top;\n",
       "    }\n",
       "\n",
       "    .dataframe thead th {\n",
       "        text-align: right;\n",
       "    }\n",
       "</style>\n",
       "<table border=\"1\" class=\"dataframe\">\n",
       "  <thead>\n",
       "    <tr style=\"text-align: right;\">\n",
       "      <th></th>\n",
       "      <th>sentences</th>\n",
       "      <th>positivity</th>\n",
       "      <th>nouns</th>\n",
       "    </tr>\n",
       "  </thead>\n",
       "  <tbody>\n",
       "    <tr>\n",
       "      <th>0</th>\n",
       "      <td>Apple cherche à acheter une start-up anglaise ...</td>\n",
       "      <td>0.0000</td>\n",
       "      <td>[milliard, dollars]</td>\n",
       "    </tr>\n",
       "    <tr>\n",
       "      <th>1</th>\n",
       "      <td>Les voitures autonomes déplacent la responsabi...</td>\n",
       "      <td>0.1779</td>\n",
       "      <td>[voitures, responsabilité, assurance, construc...</td>\n",
       "    </tr>\n",
       "    <tr>\n",
       "      <th>2</th>\n",
       "      <td>San Francisco envisage d'interdire les robots ...</td>\n",
       "      <td>-0.0772</td>\n",
       "      <td>[Francisco, robots, coursiers, trottoirs]</td>\n",
       "    </tr>\n",
       "    <tr>\n",
       "      <th>3</th>\n",
       "      <td>Londres est une grande ville du Royaume-Uni</td>\n",
       "      <td>0.0000</td>\n",
       "      <td>[ville]</td>\n",
       "    </tr>\n",
       "    <tr>\n",
       "      <th>4</th>\n",
       "      <td>L’Italie choisit ArcelorMittal pour reprendre ...</td>\n",
       "      <td>0.0000</td>\n",
       "      <td>[aciérie]</td>\n",
       "    </tr>\n",
       "    <tr>\n",
       "      <th>5</th>\n",
       "      <td>Apple lance HomePod parce qu'il se sent menacé...</td>\n",
       "      <td>-0.0772</td>\n",
       "      <td>[Echo]</td>\n",
       "    </tr>\n",
       "    <tr>\n",
       "      <th>6</th>\n",
       "      <td>La France ne devrait pas manquer d'électricité...</td>\n",
       "      <td>0.2411</td>\n",
       "      <td>[électricité, été, cas, canicule]</td>\n",
       "    </tr>\n",
       "    <tr>\n",
       "      <th>7</th>\n",
       "      <td>Nouvelles attaques de Trump contre le maire de...</td>\n",
       "      <td>-0.4767</td>\n",
       "      <td>[attaques, maire]</td>\n",
       "    </tr>\n",
       "    <tr>\n",
       "      <th>8</th>\n",
       "      <td>Où es-tu ?</td>\n",
       "      <td>0.0000</td>\n",
       "      <td>[]</td>\n",
       "    </tr>\n",
       "    <tr>\n",
       "      <th>9</th>\n",
       "      <td>Qui est le président de la France ?</td>\n",
       "      <td>0.0000</td>\n",
       "      <td>[président]</td>\n",
       "    </tr>\n",
       "    <tr>\n",
       "      <th>10</th>\n",
       "      <td>Où est la capitale des États-Unis ?</td>\n",
       "      <td>0.0000</td>\n",
       "      <td>[capitale]</td>\n",
       "    </tr>\n",
       "    <tr>\n",
       "      <th>11</th>\n",
       "      <td>Quand est né Barack Obama ?</td>\n",
       "      <td>0.0000</td>\n",
       "      <td>[]</td>\n",
       "    </tr>\n",
       "  </tbody>\n",
       "</table>\n",
       "</div>"
      ],
      "text/plain": [
       "                                            sentences  positivity  \\\n",
       "0   Apple cherche à acheter une start-up anglaise ...      0.0000   \n",
       "1   Les voitures autonomes déplacent la responsabi...      0.1779   \n",
       "2   San Francisco envisage d'interdire les robots ...     -0.0772   \n",
       "3         Londres est une grande ville du Royaume-Uni      0.0000   \n",
       "4   L’Italie choisit ArcelorMittal pour reprendre ...      0.0000   \n",
       "5   Apple lance HomePod parce qu'il se sent menacé...     -0.0772   \n",
       "6   La France ne devrait pas manquer d'électricité...      0.2411   \n",
       "7   Nouvelles attaques de Trump contre le maire de...     -0.4767   \n",
       "8                                          Où es-tu ?      0.0000   \n",
       "9                 Qui est le président de la France ?      0.0000   \n",
       "10                Où est la capitale des États-Unis ?      0.0000   \n",
       "11                        Quand est né Barack Obama ?      0.0000   \n",
       "\n",
       "                                                nouns  \n",
       "0                                 [milliard, dollars]  \n",
       "1   [voitures, responsabilité, assurance, construc...  \n",
       "2           [Francisco, robots, coursiers, trottoirs]  \n",
       "3                                             [ville]  \n",
       "4                                           [aciérie]  \n",
       "5                                              [Echo]  \n",
       "6                   [électricité, été, cas, canicule]  \n",
       "7                                   [attaques, maire]  \n",
       "8                                                  []  \n",
       "9                                         [président]  \n",
       "10                                         [capitale]  \n",
       "11                                                 []  "
      ]
     },
     "execution_count": 11,
     "metadata": {},
     "output_type": "execute_result"
    }
   ],
   "source": [
    "df['nouns'] = np.vectorize(get_nouns)(df.sentences)\n",
    "df"
   ]
  },
  {
   "cell_type": "markdown",
   "id": "94118b9a",
   "metadata": {},
   "source": [
    "**StopWords**"
   ]
  },
  {
   "cell_type": "code",
   "execution_count": 12,
   "id": "e26fe210",
   "metadata": {},
   "outputs": [
    {
     "data": {
      "text/plain": [
       "['es',\n",
       " 'autres',\n",
       " 'trente',\n",
       " 'avant',\n",
       " 'doit',\n",
       " 'or',\n",
       " 'la',\n",
       " 'houp',\n",
       " 'elles',\n",
       " 'douzième']"
      ]
     },
     "execution_count": 12,
     "metadata": {},
     "output_type": "execute_result"
    }
   ],
   "source": [
    "spacy_stopwords = list(spacy.lang.fr.stop_words.STOP_WORDS)\n",
    "[random.choice(spacy_stopwords) for i in range(10)]"
   ]
  },
  {
   "cell_type": "code",
   "execution_count": 63,
   "id": "0d5d9f4a",
   "metadata": {},
   "outputs": [],
   "source": [
    "def without_stopwords(text):\n",
    "    doc = nlp(str(text))\n",
    "    return [token for token in doc if not token.is_stop and not token.is_punct]"
   ]
  },
  {
   "cell_type": "code",
   "execution_count": 14,
   "id": "6f77a792",
   "metadata": {},
   "outputs": [
    {
     "data": {
      "text/plain": [
       "[Apple, cherche, acheter, start, -, up, anglaise, 1, milliard, dollars]"
      ]
     },
     "execution_count": 14,
     "metadata": {},
     "output_type": "execute_result"
    }
   ],
   "source": [
    "without_stopwords(str(sentences[0]))"
   ]
  },
  {
   "cell_type": "markdown",
   "id": "3067e877",
   "metadata": {},
   "source": [
    "**Lemmatization**"
   ]
  },
  {
   "cell_type": "code",
   "execution_count": 68,
   "id": "fe230af0",
   "metadata": {},
   "outputs": [],
   "source": [
    "def get_lemmatization(text):\n",
    "    doc = nlp(str(text))\n",
    "    return [\"{0}\".format(token.lemma_) for token in doc if str(token) != str(token.lemma_)]"
   ]
  },
  {
   "cell_type": "code",
   "execution_count": 16,
   "id": "06697948",
   "metadata": {},
   "outputs": [
    {
     "data": {
      "text/plain": [
       "['une : un', 'anglaise : anglais', 'dollars : dollar']"
      ]
     },
     "execution_count": 16,
     "metadata": {},
     "output_type": "execute_result"
    }
   ],
   "source": [
    "get_lemmatization(str(sentences[0]))"
   ]
  },
  {
   "cell_type": "code",
   "execution_count": 17,
   "id": "6b9ef40a",
   "metadata": {},
   "outputs": [],
   "source": [
    "def get_word_frequency(text):\n",
    "    doc = nlp(str(text))\n",
    "    return [token.lemma_ for token in doc if not token.is_stop and not token.is_punct]\n",
    "\n",
    "def display_frequency(words, size):\n",
    "    return Counter(words).most_common(size)"
   ]
  },
  {
   "cell_type": "code",
   "execution_count": 18,
   "id": "8837931a",
   "metadata": {},
   "outputs": [
    {
     "data": {
      "text/plain": [
       "[('voiture', 1),\n",
       " ('autonome', 1),\n",
       " ('déplacer', 1),\n",
       " ('responsabilité', 1),\n",
       " ('assurance', 1)]"
      ]
     },
     "execution_count": 18,
     "metadata": {},
     "output_type": "execute_result"
    }
   ],
   "source": [
    "display_frequency(get_word_frequency(sentences[1]),5)"
   ]
  },
  {
   "cell_type": "code",
   "execution_count": 20,
   "id": "6162230c",
   "metadata": {},
   "outputs": [
    {
     "data": {
      "text/plain": [
       "[('voiture', 1),\n",
       " ('autonome', 1),\n",
       " ('déplacer', 1),\n",
       " ('responsabilité', 1),\n",
       " ('assurance', 1)]"
      ]
     },
     "execution_count": 20,
     "metadata": {},
     "output_type": "execute_result"
    }
   ],
   "source": [
    "display_frequency(get_word_frequency(sentences[1]),5)"
   ]
  },
  {
   "cell_type": "code",
   "execution_count": 37,
   "id": "75ad2568",
   "metadata": {},
   "outputs": [],
   "source": [
    "discours = (\"Merci Monsieur le Président du Conseil constitutionnel pour ces mots.\"\n",
    "\"Mesdames, Messieurs,\"\n",
    "\"Chers Amis,\"\n",
    "\"Le 4 octobre 1958, était en effet promulguée une Constitution née en quelque sorte du sursaut de la Nation face au risque de délitement et engageant la France dans une période nouvelle de son Histoire. Ce n’était pas là une Constitution de temps de paix ni une Constitution faite pour les eaux tranquilles, c’était une Constitution destinée à affronter les défis du monde tel qu’il est, avec une conception claire de l’impératif démocratique et de la science du gouvernement des hommes.\"\n",
    "\"Nous considérons souvent le texte constitutionnel avec la révérence craintive due aux textes fondateurs et aux hommes exceptionnels qui l’ont porté. Mais le texte de 1958 est d’abord celui d’un élan nouveau, d’un mouvement profond de rénovation des institutions épousant ceux de la société. C’est parce qu’elle était faite pour cela que notre Constitution a traversé les époques. Les bouleversements moraux, culturels, sociaux, politiques, économiques, techniques que notre pays a connus depuis 60 ans comme jamais auparavant dans son Histoire ont ainsi été traversés.\"\n",
    "\"La France, ce vieux pays, cette vieille Nation, ce vieil Etat, a eu cette chance d’être dotée d’une Constitution jeune, pensée à la lumière des prémices de cette modernité. Cette dynamique ne s’est pas épuisée et reste vivace et féconde pour autant qu’on en épouse la logique profonde qui est à mes yeux celle d’un syncrétisme original. La première raison est que ce texte constitue un point d’équilibre entre les héritages institutionnels et les philosophies politiques qui ont façonné la France depuis 1789, peut-être même avant, des Constitutions monarchiques et impériales jusqu’au régime parlementaire républicain. Elle embrasse et conjugue savamment les idées d’Etat et de Nation issues de traditions différentes qui ont organisé notre paysage intellectuel et politique et même structuré notre inconscient collectif.\"\n",
    "\"La Constitution de 1958 a le génie de récapituler notre histoire constitutionnelle et cela est vrai sous l’angle de la garantie des droits comme sous l’angle de la séparation des pouvoirs. Du point de vue de la garantie des droits, le préambule réussit en quelques mots à embrasser deux siècles en faisant référence à la Déclaration de 1789 et au préambule de la Constitution de 1946 et, au travers de celui-ci, aux principes fondamentaux reconnus par les lois de la République, il transforme notre Histoire en droit. C’est ce qu’a parfaitement saisi le Conseil constitutionnel en donnant valeur juridique à ces trois temps de notre Histoire qui correspondent à des paradigmes constitutifs de nos valeurs philosophiques : les droits individuels, les droits collectifs, les droits sociaux.\"\n",
    "\"Et c’est ce même Conseil constitutionnel qui garantit l’équilibre entre ces trois dimensions de notre identité constitutionnelle. Du point de vue de la séparation des pouvoirs, l’équilibre défini est aussi le produit de l’Histoire et de la sagesse. Le chef de l’Etat occupe une place et dispose de prérogatives puissantes sans pour autant que s’instaure un régime présidentiel. Respectant l’acquis révolutionnaire, la Ve République est en effet d’essence parlementaire et le Gouvernement y est responsable devant l’Assemblée nationale. Telle est cette grammaire hybride, tel est l’équilibre neuf et audacieux qu’elle construit.\"\n",
    "\"Aucun régime avant la Ve République n’avait pourtant su trouver les ingrédients de cette stabilité dont nous sommes aujourd’hui les bénéficiaires. Les créateurs de la Ve République ont réussi à installer ce que Polybe avait théorisé plusieurs siècles avant MONTESQUIEU. A travers la notion de régime mixte, c’est une séparation des pouvoirs solidement ancrée dans notre histoire constitutionnelle qui a permis les avancées de l’Etat de droit et l’efficacité de l’action que le suffrage universel a désigné pour conduire la Nation.\"\n",
    "\"Je crois profondément que la Ve République doit sa longévité à cette fidélité à notre histoire constitutionnelle et à cette compréhension intime des influences dont elle procède car c’est en s’enracinant dans des schémas éprouvés, en harmonisant les leçons de l’Histoire qu’elle a construit le socle sur lequel depuis nous vivons et dont la solidité est désormais attestée.\"\n",
    "\"L’élan de 1958 conjure à cet égard l’instabilité politique et l’impuissance qui minaient notre pays. Cette Constitution fut et reste l’antidote puissant à la résignation démocratique. La force de la Constitution de 1958 ne réside pas seulement dans sa part d’idéale, elle tient surtout à la volonté qu’avaient ses pères d’affronter la part de réel. Ce principe de réalité s’est imposé face à un monde redevenu imprévisible et labile à peine 15 ans après la fin de la Seconde Guerre mondiale. La Constitution de 1946 avait cru pouvoir renouer avec une donne ancienne sans voir que le monde entrait alors dans une ère nouvelle, l’ère de l’effondrement des empires et de la constitution des blocs, l’ère de l’arme nucléaire et de la mécanisation du monde, l’ère du doute anthropologique après la Shoah. Rester fidèle à nos principes républicains, humanistes fut le grand souci des constituants de 1958 tout en s’assurant que la France jamais ne deviendrait ingouvernable.\"\n",
    "\"Qui ne voit la proximité extrême entre les conditions d’émergence de ce texte et les temps que nous vivons. Certes les blocs se sont désagrégés mais de nouvelles puissances régionales apparaissent tandis que l’ordre multilatéral vacille. Les technologies bouleversent nos modes de vie et nos rapports sociaux. Le grand basculement du monde est en cours et la défiance à l’égard des institutions et de la politique est tout aussi présente. C’est là un défi constant lancé à notre capacité à conserver à la France une faculté d’initiative dans le monde tel qu’il va sans brader ce qui nous a fait et qui encore nous unit. Notre responsabilité à cet égard n’est pas de mettre notre Constitution sous cloche mais d’en faire un fanal et de conserver la force de son élan originel pour répondre encore et toujours aux défis de notre temps en républicains et en démocrates.\"\n",
    "\"Je citerai ce soir en cette occasion trois de ces défis sur lesquels je souhaiterais revenir. Le premier défi est celui de la légitimité et donc du doute profond de nos concitoyens à l’égard de la classe politique. Le second défi, c’est celui de l’efficacité, c’est-à-dire l’aspiration des citoyens à voir l’action publique produire des résultats et non s’enferrer dans une technostructure lente et inefficace. Le troisième défi, c’est celui de la Justice car dans un monde vécu comme inégalitaire, dans une société vue comme bloquée, les Français attendent des droits plus protecteurs et plus équitables.\"\n",
    "\"Je commencerai donc avec le défi de la légitimité. La première fonction d’une Constitution est précisément de déterminer la source légitime du pouvoir. Dans celle de 1958, la réponse sur ce point est donnée clairement à l’article 3 : « La souveraineté nationale appartient au peuple qui l’exercice par ses représentants et par la voie du référendum. » Le suffrage et la représentation sont donc le noyau de notre démocratie. Mais pour que la démocratie représentative fonctionne, encore faut-il que le peuple se sente représenté. Or, ce lien de confiance entre les électeurs et les élus s’est étiolé d’année en année, les chiffres de la participation électorale l’attestent. Cette érosion est mortelle. Elle a d’abord procédé du sentiment que le personnel politique ne se renouvelait pas assez, cumulant les mandats, confisquant la démocratie. Les changements successifs durant ces dernières années, les grandes alternances ont apporté un début de réponse, la dernière faisant ainsi entrer plus de femmes, plus de jeunes, plus de Français de tous horizons socioprofessionnels au Palais Bourbon.\"\n",
    "\"Mais pour que ce renouvellement perdure et qu’il contribue dans le temps à réparer le lien de confiance entre électeurs et représentants, il faut l’ancrer dans notre pratique institutionnelle. C’est la raison pour laquelle j’ai souhaité instaurer la règle du non-cumul des mandats dans le temps tant pour les parlementaires que pour certaines fonctions exécutives locales. C’est la condition de l’oxygénation de notre vie politique. Elle doit se faire progressivement tout en conduisant une réflexion sur le nécessaire ancrage dans les territoires des élus de la Nation.\"\n",
    "\"Il est un deuxième facteur d’érosion avec le scrutin majoritaire, ce pilier de la Ve République. Il favorise les majorités claires au Parlement et permet à l’Etat d’éviter la paralysie. Pour autant, une démocratie où des partis recueillant 1/5e des suffrages disposent de moins de 2 % des députés prend évidemment le risque de la défiance et met en jeu sa légitimité. Nos concitoyens n’acceptent plus ce qui, dans une société devenue de plus en plus horizontale, s’apparente à une captation de la démocratie. C’est pourquoi j’ai proposé l’introduction d’une dose de scrutin proportionnel aux élections législatives car une majorité parlementaire solide, ce n’est pas seulement une majorité nombreuse, c’est aussi une majorité soutenue par un corps électoral qui se sent représenté pour toute la durée du mandat, une majorité qui peut être pluraliste en ce qu’elle reflète mieux les sensibilités politiques de la Nation. Il ne s’agit pas là de reconstruire quelque impuissance politique que ce soit mais, de manière adaptée, de prendre en compte aussi les évolutions de notre société.\"\n",
    "\"Il n’en reste pas moins que l’exercice du vote et la représentation qui en découle n’épuise pas la représentation de la Nation et de toutes ses composantes. Il nous faut des institutions à l’écoute du citoyen et de la société dans sa diversité, en particulier celle des intérêts constitués. C’est l’esprit de la réforme du Conseil économique, social et environnemental proposée. Par les pétitions citoyennes, par la consultation systématique de la société civile, la future instance, je l’espère, offrira une caisse de résonance nouvelle à une société multiple vivant de changements profonds. Cette future chambre permettra tout à la fois de porter cette perception du social et les causes de long terme pour notre pays.\"\n",
    "\"Ces ajustements sont nécessaires pour rendre notre système politique plus juste et plus représentatif de la réalité de l’opinion sans pour autant réintroduire les éléments de blocage. C’était l’esprit de 1958, ce doit être celui de 2018 car aujourd’hui comme alors et aujourd’hui peut-être plus qu’alors, le peuple veut se sentir écouté de décideurs politiques constamment sommés de faire leurs preuves. Cette exigence place au premier plan le désir d’efficacité. Il était au cœur de ce que le constituant a souhaité. Ce que nos concitoyens attendent ou plutôt exigent de leurs institutions, ce sont des résultats, c’est-à-dire une capacité à produire rapidement des décisions dotées d’un impact réel sur leur quotidien. Or, nos institutions on peut-être à cet égard vieilli et certaines mauvaises habitudes ont été prises créant des rigidités peu intelligibles.\"\n",
    "\"La réforme constitutionnelle à laquelle je m’étais engagé est à mes yeux une tentative de réponse à cette crise. Elle reviendra devant l’Assemblée nationale début janvier et je sais que le Gouvernement, par le dialogue avec l’Assemblée nationale et le Sénat, trouvera la manière de faire intelligemment cheminer cette réforme. Soyons lucides, le temps s’accélère. Le temps institutionnel qui est le rythme auquel l’action publique se meut ne peut plus suivre le temps réel qui est celui d’une économie mondialisée, une société d’information en continu, d’impatience sociale aussi, d’une technologie en développement exponentiel et qui bouleverse chaque jour davantage notre usage du monde. Non pas que je pense ici une seule seconde que nous devions en tous points suivre cette accélération. Il est bon d’avoir des institutions, d’avoir des lieux où le temps s’arrête et où le recul est pris en même temps que l’horizon est retrouvé.\"\n",
    "\"Mais une mécanique constitutionnelle qui demande plus de 12 mois pour faire voter une loi, qui requiert un trimestre tous les ans pour voter le budget là où nos grands voisins s’en acquittent en quelques semaines ne permet plus au Gouvernement de produire les résultats que les Français attendent ou de répondre aux urgences qui surviennent. C’est la raison pour laquelle nous souhaitons donner au Parlement à la fois les moyens d’accélérer son travail législatif lorsque cela est nécessaire et pertinent en se concentrant sur les dispositions les plus importantes et les moyens de renforcer son travail de contrôle et d’évaluation. Ceci est nécessaire pour veiller aux bons équilibres, à la mise en œuvre des lois comme des politiques publiques. Chaque ministre se rendra désormais lui-même devant les commissions parlementaires afin de présenter son bilan au moins une fois l’an comme les projets pour l’année qui s’ouvre. Orienté, stimulé, parfois aiguillonné par le Parlement, le gouvernement produira son meilleur travail ; la réciproque est sans doute vraie.\"\n",
    "\"Plus rapide, notre réalité est aussi plus fragmentée. L’Etat ne peut pas réussir seul, il doit conjuguer son action avec celle des collectivités locales qui sont devenues le premier acteur de nombreuses politiques publiques en matière sociale, économique, culturelle, environnementale. C’est la raison pour laquelle j’ai souhaité porter un pacte girondin avec les collectivités en leur permettant d’adopter avec l’Etat une démarche partenariale sur la durée. C’est aussi la raison pour laquelle j’ai souhaité que nous permettions aux collectivités territoriales, à l’article 72 de notre Constitution, d’adapter dans leur domaine de compétences les lois et règlements aux réalités de leur territoire. C’est un chemin que les collectivités d’outre-mer nous ont déjà permis d’éclairer. Tout aujourd’hui nous permet de sortir de la standardisation normative qui stérilise l’initiative et compromet les résultats.\"\n",
    "\"Pour renouer avec l’efficacité, nous devons accepter de rompre avec le carcan, non pas de l’égalité, mais bien plus souvent de l’uniformité et permettre à nos collectivités d’expérimenter, de se différencier dans le respect, évidemment, des grands principes et de nos institutions.\"\n",
    "\"Ceci doit aussi nous garder de tout mouvement qui viendrait affaiblir l’unité de la Nation et sur un fond de facilité réveiller de nouvelles formes de féodalisme.\"\n",
    "\"A la séparation horizontale des pouvoirs correspond une séparation verticale bien exprimée par le principe de subsidiarité et qui loin d’affaiblir l’Etat le renforce en lui permettant de se concentrer à l’échelle centrale sur ses fonctions essentielles. Les Français ne jugent pas leurs institutions sur leur âge ni leur caractère plus ou moins vénérable, ils jugent les résultats. C’est singulièrement vrai du Président de la République devenu de fait plus responsable que jamais devant le peuple depuis 1962 dont il tire toute sa légitimité.\"\n",
    "\"Je sais à ce titre les tempêtes et les avanies que notre époque réserve à ses dirigeants politiques et particulièrement au premier d’entre eux. L’impatience et l’exigence, la tyrannie de l’immédiat, le règne de l’image et le goût pour l’écume des jours n’aident pas forcément à mener une action sereine pour qui céderait à cette tyrannie mais aucun président de la Vème République n’en a été préservé jusqu’au général de GAULLE lui-même. Qu’on ne prétende pas gouverner la France ni même la présider si l’on n’est pas prêt aux déferlantes et aux vents contraires. Il faut tout ignorer de notre pays pour espérer une mer d’huile, l’important est ici de conserver le cap et nos institutions nous le permettent, c’est leur grande force, car il en va de l’avenir de la France. Les pré-carrés ont vécu, chacun à sa place doit désormais contribuer à la réussite du pays. Cela suppose de considérer la séparation des pouvoirs non comme une opposition frontale ni une division étanche mais comme une complémentarité féconde contribuant à renforcer les droits des citoyens en organisant une dialectique des formes de représentation de l’intérêt général.\"\n",
    "\"C’est pourquoi j’en viens au troisième défi, celui de la justice, l’autorité judiciaire ne saurait rester à l’écart des évolutions requises par notre modernité. Je le disais tout à l’heure, nos concitoyens ne demandent pas simplement davantage de résultats, ils souhaitent également voir progresser leurs droits. La loi constitutionnelle du 3 juin 1958, base de la Constitution de la Vème République, faisait de l’indépendance de l’autorité judiciaire la condition du respect des libertés essentielles telles qu’elles sont définies par le préambule de 1946 et par la Déclaration des droits de l’homme à laquelle il se réfère. Pour autant, les institutions de 1958 ont ménagé des cordes de rappel entre l’exécutif et le parquet et ont préservé des justices d’exception. La réforme que je propose à cet égard s’inscrit dans la continuité complète de celles accomplies ou proposés ces dernières décennies et qui visaient toute à la fois à conférer davantage d’indépendance à l’autorité judiciaire et à l’asseoir institutionnellement et démocratiquement.\"\n",
    "\"Il nous faut en premier lieu parachever la disparition des justices d'exception, il est clair aujourd'hui que la Cour de justice de la République ne parvient pas à remplir ce qui a à un moment pu être l'intention, sa fonction essentielle de traiter la responsabilité des ministres. Je souhaite donc que cette Cour de justice de la République soit supprimée et que le régime de responsabilité des ministres soit dûment construit afin.de prévenir toute impunité comme toute dérive qui conduiraient à l'impuissance. Par ailleurs, la réforme du Conseil supérieur de la magistrature qui n'a pu aboutir sous la précédente mandature apportera je l'espère des garanties supplémentaires. Les magistrats du parquet seront donc nommés après avis conforme du Conseil supérieur de la magistrature et bénéficieront en matière disciplinaire de la même procédure que leurs collègues du siège. Mais l'indépendance n'interdit pas et je dirai même qu'elle commande une parfaite articulation de l'autorité judiciaire et des autres pouvoirs publics, elle doit nous interroger sur la place de la justice dans l'Etat.\"\n",
    "\"La justice doit être indépendante mais elle ne saurait être hors de tout sauf à risquer de n’être légitime de nulle part, c'est particulièrement vrai pour le parquet qui participe toute à la fois de l'activité judiciaire et de l'action publique. A ce titre, n'en déplaise à des esprits chagrins ou mauvais lecteurs de notre Constitution actuelle comme je l'espère de celle à venir, son lien avec le pouvoir exécutif même assorti de robustes garanties ne saurait être totalement rompu. La politique pénale comme l'ensemble des politiques publiques est en effet déterminée par le Gouvernement qui en est responsable devant le Parlement. Quant au Président de la République il nomme les magistrats du parquet après avis du CSM, je veux que cet avis soit conforme pour qu'aucun retour en arrière ne soit plus possible. Mais.si les parquetiers sont des magistrats à part entière, gardiens des libertés, avocats de la société, ils sont aussi en charge d'appliquer cette politique pénale. Ils gèrent une équipe, codirigent une juridiction, déclinent des politiques publiques, communiquent et incarnent pour nos concitoyens la protection qui leur est due.\"\n",
    "\"A cet égard, il est clair que l'exécutif garde toute légitimité pour proposer le candidat qui lui semble le plus pertinent. Lutte contre le terrorisme et la radicalisation, contre la criminalité organisée et la corruption, les crimes sexuels, les violences faites aux femmes, la violence routière, les atteintes à la sécurité publique ou à l'environnement, autant de sujets sur lesquels in fine c'est le pouvoir exécutif qui rend des comptes, le Gouvernement devant le Parlement et le Président de la République devant les citoyens français.\"\n",
    "\"L'indépendance accrue n'interdit pas non plus bien au contraire la remise en question, elle implique une responsabilité particulière, l'autorité judiciaire ne saurait donc faire exception à ce double mouvement d'affranchissement et de responsabilisation. Des progrès ont été accomplis pas à pas, la loi organique du 25 juin 2001 a consacré la publicité des audiences du CSM statuant en formation disciplinaire afin de renforcer la portée de ses décisions mais également de renforcer le respect des droits de la défense. Le législateur a également autorisé la publication des décisions rendues par le CSM mettant fin à l'interdiction qui figurait auparavant dans la loi de 1881 sur la liberté de la presse. Depuis 1999 le Conseil publie intégralement ses décisions, ses audiences disciplinaires sont publiques, surtout la réforme constitutionnelle de 2008, Monsieur le Président, a ouvert la possibilité pour les justiciables de saisir le CSM.\"\n",
    "\"Cette réforme a été préconisée par plusieurs analystes à commencer par le CSM lui-même dans son rapport pour l'année 2007, on pouvait attendre qu'avec la réforme de 2008 les saisines n’augmentent, cela n'a pas été le cas. On ne peut que s'interroger sur le sens d'une réforme qui plus largement semble n'avoir pas de véritable effectivité, la saisine du CSM par les justiciables ne peut être un défouloir sans conséquences. Je souhaite ainsi que nous puissions nous interroger sur le sens et l'effectivité de cette saisine par les citoyens, plus globalement un bilan des réformes en matière de responsabilités enrichi de la jurisprudence du Conseil constitutionnel et des décisions du CSM doit être établi. Enfin, comme je l'ai indiqué devant la Cour de cassation nos sociétés démocratiques ont un rapport à la chose jugée qui évolue car les citoyens ont un besoin accru de comprendre le jugement. Il est donc essentiel que la clarté, la lisibilité, l'intelligibilité toute à la fois des jugements et des évolutions jurisprudentielles puissent être perçues par nos concitoyens que la force de la procédure et de la délibération puisse être affermie et mieux comprise.\"\n",
    "\"Nous devons développer une approche française de ces questions.car la limpidité de ce que le juge énonce fait bien partie de notre tradition, la rédaction de l'arrêt en une phrase unique correspondait à une volonté de concision et de clarté, nous devons y ajouter l'impératif d'explication sans pour autant tomber dans les travers de la Common Law qui envahit trop souvent les pratiques juridiques de notre monde actuel alors qu'elle n'a pas les mêmes atouts, je le crois profondément, que notre droit en matière de sécurité juridique et d'équité.\"\n",
    "\"Indépendance, responsabilité, ouverture, transparence, ces questions majeures doivent faire l’objet d’une réflexion apaisée, dans le cadre d’un dialogue indispensable avec l’institution à laquelle la Constitution confère un rôle essentiel aux côtés du Président de la République pour garantir l’indépendance de la magistrature. J’ai eu l’occasion de m’entretenir avec les chefs de la Cour de cassation présidant le CSM de ces questions, à plusieurs reprises. Ce dialogue se poursuivra. En ces matières délicates, la concertation avec le monde judiciaire lui-même m’apparait indispensable.\"\n",
    "\"On ne saurait parler de justice, surtout en ces lieux, sans insister à nouveau sur le rôle du Conseil constitutionnel. Je dois d'abord saluer, Monsieur le Président, Mesdames et Messieurs les Membres du Conseil, votre action et vos travaux depuis l'institution de la question prioritaire de constitutionnalité votée en 2008 est entrée en vigueur en 2010. Cette voie de recours, nouvelle, a donné en effet un second souffle, à la fois à la Constitution dont le corpus de droits et libertés n'a jamais été mieux connu, plus discuté, mieux défendu, et au Conseil constitutionnel qui s'est installé dans le paysage institutionnel et dans l'esprit de nos concitoyens comme une véritable juridiction. Et en cela, la réforme de 2008 parachève, poursuit celle de 1974.\"\n",
    "\"Pour vous installer encore davantage dans ce rôle proprement juridictionnel, il faut que nous allions un pas plus loin, en supprimant la présence parmi vous des anciens Présidents de la République, à l'exception de ceux qui y siègent déjà. Il est toujours bon de statuer pour l'avenir et pas pour le passé. C'est une condition pour que le Conseil constitutionnel puisse prendre encore davantage sa place dans le dialogue international des juges qui est pleinement incarné ce soir par la présence de nombreux présidents de Cour suprême et hauts magistrats étrangers que je veux ici saluer.\"\n",
    "\"J’ai d'ailleurs souhaité que la France fasse un pas important en ce sens, avec la ratification du protocole additionnel numéro 16 à la Convention européenne de sauvegarde des droits de l'homme et du citoyen qui permettra à nos juridictions faîtières, y compris le Conseil constitutionnel, de poser des questions à la CEDH, tout comme elles le font déjà auprès de la Cour de justice de l'Union européenne.\"\n",
    "\"Quant au contenu des règles protectrices des droits et libertés, la révision en cours apportera sa propre contribution avec la reconnaissance de la nécessité d'agir contre les changements climatiques et en faveur de la diversité biologique, et avec l'extension du domaine de la loi des matières émergentes, comme celle de la protection des données personnelles. Ce sont là des combats que nous avons choisis car le consensus national était mûr autour de ces questions essentielles pour l'avenir de notre pays et pour l'avenir du monde, et on peut le dire ainsi car notre Constitution a toujours aspiré à l'universel.\"\n",
    "\"Mais d'autres enjeux, d'autres combats viendront, nous vivons un temps accéléré où la technologie va faire émerger de nouvelles questions de niveau constitutionnel. L'intelligence artificielle, la robotique, le transhumanisme, la préservation de l'identité, de la vie privée dans une société de l'information mondialisée sont des sujets que le constituant devra sans doute prendre à bras le corps, le moment venu. Mais ces sujets appellent une réflexion approfondie. Il ne faut pas les aborder dans la précipitation, et sur les grandes interrogations qui s'imposeront à la société de demain, ils requièrent une réflexion large, partagée, prolongée, à l'intérieur et au-delà des enceintes parlementaires.\"\n",
    "\"Les avancées des droits et principes constitutionnels n'arrivent en effet pas du ciel et n'émergent de l'esprit fécond de personnes dans un travail en chambre. Elles sont l'expression visible lorsque le moment est juste, d'un long travail préparatoire, d'une maturation du débat public sur des questions fondamentales. C'est ainsi que les choses doivent être faites.\"\n",
    "\"Je terminerai donc en vous invitant tous à poursuivre avec nous ce travail constituant au long cours. Il est la condition pour qu'à chaque étape de notre histoire, nous sachions adapter notre loi fondamentale aux grands défis qui font face. Une Constitution est tout à la fois source du pouvoir, recueil des libertés et valeurs fondamentales, grammaire des mécaniques institutionnelles. Le Président de la République doit veiller sur l'héritage de 1958 dans ses trois dimensions. Mais pour ce faire, il est dressé sur les épaules de géants qui ont été à l'origine de cette Vème République. Savoir en pratiquer les souplesses et parfois la modifier est la meilleure garantie de sa pérennité pour l'avenir. C'est une tâche qui n'est jamais terminée. La condition de son succès tient à un facteur déterminant : il nous faut raisonner, à partir des besoins de la Nation et non à partir des institutions existantes, quelles qu'elles soient.\"\n",
    "\"C'est en cela que le Président de la République doit veiller constamment à se tenir au dessus de l'intérêt singulier de chaque institution et à maintenir vivante l'énergie originelle de 1958, cette force qui va, qui encore aujourd'hui saisit quiconque se penche sur le texte constitutionnel qui est le nôtre. Cela consiste en l'ajustement de déséquilibres sans cesse rattrapés, sans cesse compensés. C'est là toute l'importance de la mémoire constitutionnelle dont vous, Mesdames et Messieurs, êtes collectivement dépositaires, afin que nul n'aborde nos institutions sans en connaître l'histoire. Car cette Constitution a transformé l'histoire en droit. Et c’est là sa part la plus révolutionnaire, la plus vivace et en somme la plus précieuse dans ce monde où le recul des droits semble concerté et hélas souvent consenti.\"\n",
    "\"La France dispose, face aux déferlantes de l’Histoire, d’un socle de stabilité et de solidité que nous devons maintenir en résistant aux effets de mode, au aspirations du moment, aux tentations du court terme qui, trop souvent, ont motivé les altérations de la Constitution. A ces tentations, opposons le sens du temps long, et sachons utiliser le droit pour façonner l’Histoire.\"\n",
    "\"Je vous remercie.\")\n",
    "discours = str(discours)"
   ]
  },
  {
   "cell_type": "code",
   "execution_count": 58,
   "id": "c824d6b6",
   "metadata": {},
   "outputs": [
    {
     "data": {
      "text/plain": [
       "[('constitution', 19),\n",
       " ('conseil', 10),\n",
       " ('la france', 9),\n",
       " ('etat', 9),\n",
       " ('nation', 8),\n",
       " ('csm', 7),\n",
       " ('président de la république', 6),\n",
       " ('ve république', 5),\n",
       " ('gouvernement', 5),\n",
       " ('parlement', 5)]"
      ]
     },
     "execution_count": 58,
     "metadata": {},
     "output_type": "execute_result"
    }
   ],
   "source": [
    "ents = get_entities(discours)\n",
    "display_frequency(ents, 10)"
   ]
  },
  {
   "cell_type": "code",
   "execution_count": 60,
   "id": "5a00e9f2",
   "metadata": {},
   "outputs": [],
   "source": [
    "discours2 = discours.lower()"
   ]
  },
  {
   "cell_type": "code",
   "execution_count": 70,
   "id": "1b9a9d8b",
   "metadata": {},
   "outputs": [
    {
     "data": {
      "text/plain": [
       "[('droit', 15),\n",
       " ('être', 13),\n",
       " ('institution', 11),\n",
       " ('constitutionnel', 10),\n",
       " ('souhaiter', 10),\n",
       " ('public', 10),\n",
       " ('politique', 9),\n",
       " ('pouvoir', 9),\n",
       " ('savoir', 9),\n",
       " ('falloir', 8)]"
      ]
     },
     "execution_count": 70,
     "metadata": {},
     "output_type": "execute_result"
    }
   ],
   "source": [
    "discours_2_stop = without_stopwords(discours_2)\n",
    "discours_2_lemma = get_lemmatization(discours_2_stop)\n",
    "\n",
    "display_frequency(discours_2_lemma, 10)"
   ]
  },
  {
   "cell_type": "code",
   "execution_count": 87,
   "id": "044084a8",
   "metadata": {},
   "outputs": [],
   "source": [
    "def get_adjectifs(text):\n",
    "    doc = nlp(str(text))\n",
    "    return [token.text.lower() for token in doc if token.pos_ == \"ADJ\"]   "
   ]
  },
  {
   "cell_type": "code",
   "execution_count": 95,
   "id": "d88cd9da",
   "metadata": {},
   "outputs": [
    {
     "data": {
      "text/html": [
       "<div>\n",
       "<style scoped>\n",
       "    .dataframe tbody tr th:only-of-type {\n",
       "        vertical-align: middle;\n",
       "    }\n",
       "\n",
       "    .dataframe tbody tr th {\n",
       "        vertical-align: top;\n",
       "    }\n",
       "\n",
       "    .dataframe thead th {\n",
       "        text-align: right;\n",
       "    }\n",
       "</style>\n",
       "<table border=\"1\" class=\"dataframe\">\n",
       "  <thead>\n",
       "    <tr style=\"text-align: right;\">\n",
       "      <th></th>\n",
       "      <th>ADJ</th>\n",
       "      <th>FREQUENCE</th>\n",
       "      <th>POSITIVITE</th>\n",
       "    </tr>\n",
       "  </thead>\n",
       "  <tbody>\n",
       "    <tr>\n",
       "      <th>1</th>\n",
       "      <td>nouveau</td>\n",
       "      <td>7</td>\n",
       "      <td>-0.0516</td>\n",
       "    </tr>\n",
       "    <tr>\n",
       "      <th>0</th>\n",
       "      <td>tout</td>\n",
       "      <td>10</td>\n",
       "      <td>0.0000</td>\n",
       "    </tr>\n",
       "    <tr>\n",
       "      <th>2</th>\n",
       "      <td>grand</td>\n",
       "      <td>6</td>\n",
       "      <td>0.0000</td>\n",
       "    </tr>\n",
       "    <tr>\n",
       "      <th>3</th>\n",
       "      <td>public</td>\n",
       "      <td>6</td>\n",
       "      <td>0.0000</td>\n",
       "    </tr>\n",
       "    <tr>\n",
       "      <th>4</th>\n",
       "      <td>social</td>\n",
       "      <td>5</td>\n",
       "      <td>0.0000</td>\n",
       "    </tr>\n",
       "    <tr>\n",
       "      <th>5</th>\n",
       "      <td>politique</td>\n",
       "      <td>5</td>\n",
       "      <td>0.0000</td>\n",
       "    </tr>\n",
       "    <tr>\n",
       "      <th>6</th>\n",
       "      <td>national</td>\n",
       "      <td>4</td>\n",
       "      <td>0.0000</td>\n",
       "    </tr>\n",
       "    <tr>\n",
       "      <th>7</th>\n",
       "      <td>essentiel</td>\n",
       "      <td>4</td>\n",
       "      <td>0.0000</td>\n",
       "    </tr>\n",
       "    <tr>\n",
       "      <th>8</th>\n",
       "      <td>institutionnel</td>\n",
       "      <td>3</td>\n",
       "      <td>0.0000</td>\n",
       "    </tr>\n",
       "    <tr>\n",
       "      <th>9</th>\n",
       "      <td>dernier</td>\n",
       "      <td>3</td>\n",
       "      <td>0.0000</td>\n",
       "    </tr>\n",
       "  </tbody>\n",
       "</table>\n",
       "</div>"
      ],
      "text/plain": [
       "              ADJ  FREQUENCE  POSITIVITE\n",
       "1         nouveau          7     -0.0516\n",
       "0            tout         10      0.0000\n",
       "2           grand          6      0.0000\n",
       "3          public          6      0.0000\n",
       "4          social          5      0.0000\n",
       "5       politique          5      0.0000\n",
       "6        national          4      0.0000\n",
       "7       essentiel          4      0.0000\n",
       "8  institutionnel          3      0.0000\n",
       "9         dernier          3      0.0000"
      ]
     },
     "execution_count": 95,
     "metadata": {},
     "output_type": "execute_result"
    }
   ],
   "source": [
    "adjs = get_adjectifs(discours)\n",
    "adjs = get_lemmatization(adjs)\n",
    "result = display_frequency(adjs, 10)\n",
    "\n",
    "df_sentiment = pd.DataFrame(result, columns=[\"ADJ\",\"FREQUENCE\"])\n",
    "df_sentiment[\"POSITIVITE\"] = np.vectorize(get_sentiment)(df_sentiment.ADJ)\n",
    "df_sentiment.sort_values(by=['POSITIVITE'])"
   ]
  },
  {
   "cell_type": "code",
   "execution_count": null,
   "id": "9d23ba82",
   "metadata": {},
   "outputs": [],
   "source": []
  }
 ],
 "metadata": {
  "kernelspec": {
   "display_name": "Python 3 (ipykernel)",
   "language": "python",
   "name": "python3"
  },
  "language_info": {
   "codemirror_mode": {
    "name": "ipython",
    "version": 3
   },
   "file_extension": ".py",
   "mimetype": "text/x-python",
   "name": "python",
   "nbconvert_exporter": "python",
   "pygments_lexer": "ipython3",
   "version": "3.9.7"
  }
 },
 "nbformat": 4,
 "nbformat_minor": 5
}